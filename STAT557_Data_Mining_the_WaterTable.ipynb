{
  "nbformat": 4,
  "nbformat_minor": 0,
  "metadata": {
    "colab": {
      "name": "STAT557:Data Mining the WaterTable.ipynb",
      "provenance": [],
      "toc_visible": true
    },
    "kernelspec": {
      "name": "python3",
      "display_name": "Python 3"
    }
  },
  "cells": [
    {
      "cell_type": "code",
      "metadata": {
        "id": "r7qWiJ37wppE",
        "colab_type": "code",
        "outputId": "45dc1e19-7e09-4345-e007-098e8cc6fb60",
        "colab": {
          "base_uri": "https://localhost:8080/",
          "height": 105
        }
      },
      "source": [
        "!pip install -U scikit-learn  #Use scikit-learn version  0.22"
      ],
      "execution_count": 0,
      "outputs": [
        {
          "output_type": "stream",
          "text": [
            "Requirement already up-to-date: scikit-learn in /usr/local/lib/python3.6/dist-packages (0.22)\n",
            "Requirement already satisfied, skipping upgrade: joblib>=0.11 in /usr/local/lib/python3.6/dist-packages (from scikit-learn) (0.14.1)\n",
            "Requirement already satisfied, skipping upgrade: scipy>=0.17.0 in /usr/local/lib/python3.6/dist-packages (from scikit-learn) (1.3.3)\n",
            "Requirement already satisfied, skipping upgrade: numpy>=1.11.0 in /usr/local/lib/python3.6/dist-packages (from scikit-learn) (1.17.4)\n"
          ],
          "name": "stdout"
        }
      ]
    },
    {
      "cell_type": "markdown",
      "metadata": {
        "id": "H1q_heWuufCN",
        "colab_type": "text"
      },
      "source": [
        "Note: Upload the files under the Data Folder before running the code"
      ]
    },
    {
      "cell_type": "code",
      "metadata": {
        "id": "BgVQ2_PyCO0r",
        "colab_type": "code",
        "colab": {}
      },
      "source": [
        "import pandas as pd\n",
        "from matplotlib import pyplot\n",
        "import datetime\n",
        "from sklearn.utils import resample\n",
        "import statsmodels.api as sm\n",
        "import os\n",
        "from sklearn.model_selection import train_test_split\n",
        "import random\n",
        "import sklearn as sk"
      ],
      "execution_count": 0,
      "outputs": []
    },
    {
      "cell_type": "code",
      "metadata": {
        "id": "DtjbQ7nbCZHa",
        "colab_type": "code",
        "colab": {}
      },
      "source": [
        "# force Pandas to not truncate the dataframe when printing \n",
        "pd.set_option('display.max_columns', 50)\n",
        "pd.set_option('display.max_rows', 100)"
      ],
      "execution_count": 0,
      "outputs": []
    },
    {
      "cell_type": "code",
      "metadata": {
        "id": "FvlYQOFVCiXL",
        "colab_type": "code",
        "colab": {}
      },
      "source": [
        "# Read in the data \n",
        "\n",
        "# feautures in the training dataset\n",
        "train_features = pd.read_csv(\"Features.csv\")\n",
        "\n",
        "# class labels for training dataset\n",
        "\n",
        "train_lables = pd.read_csv(\"Labels.csv\")\n",
        "\n",
        "# merging features with lables -- final training dataset \n",
        "df_train = train_features.merge(train_lables, on = 'id')"
      ],
      "execution_count": 0,
      "outputs": []
    },
    {
      "cell_type": "code",
      "metadata": {
        "id": "CfsvzZhtCp-C",
        "colab_type": "code",
        "colab": {}
      },
      "source": [
        "#df_test = pd.read_csv(\"TestData.csv\")"
      ],
      "execution_count": 0,
      "outputs": []
    },
    {
      "cell_type": "code",
      "metadata": {
        "id": "yEiakC2pCqsR",
        "colab_type": "code",
        "colab": {}
      },
      "source": [
        "#df_test.head()"
      ],
      "execution_count": 0,
      "outputs": []
    },
    {
      "cell_type": "code",
      "metadata": {
        "id": "igvoEIXWCtJK",
        "colab_type": "code",
        "outputId": "56b9d547-999b-4c6d-e29e-4996eb137274",
        "colab": {
          "base_uri": "https://localhost:8080/",
          "height": 204
        }
      },
      "source": [
        "# feature names \n",
        "df_train.columns"
      ],
      "execution_count": 0,
      "outputs": [
        {
          "output_type": "execute_result",
          "data": {
            "text/plain": [
              "Index(['id', 'amount_tsh', 'date_recorded', 'funder', 'gps_height',\n",
              "       'installer', 'longitude', 'latitude', 'wpt_name', 'num_private',\n",
              "       'basin', 'subvillage', 'region', 'region_code', 'district_code', 'lga',\n",
              "       'ward', 'population', 'public_meeting', 'recorded_by',\n",
              "       'scheme_management', 'scheme_name', 'permit', 'construction_year',\n",
              "       'extraction_type', 'extraction_type_group', 'extraction_type_class',\n",
              "       'management', 'management_group', 'payment', 'payment_type',\n",
              "       'water_quality', 'quality_group', 'quantity', 'quantity_group',\n",
              "       'source', 'source_type', 'source_class', 'waterpoint_type',\n",
              "       'waterpoint_type_group', 'status_group'],\n",
              "      dtype='object')"
            ]
          },
          "metadata": {
            "tags": []
          },
          "execution_count": 8
        }
      ]
    },
    {
      "cell_type": "code",
      "metadata": {
        "id": "TZjbgcAvCwLJ",
        "colab_type": "code",
        "outputId": "5ebcb9c7-3413-4523-af04-1a5fabd8b8c0",
        "colab": {
          "base_uri": "https://localhost:8080/",
          "height": 34
        }
      },
      "source": [
        "# there are no duplicates\n",
        "df_train.duplicated().sum()"
      ],
      "execution_count": 0,
      "outputs": [
        {
          "output_type": "execute_result",
          "data": {
            "text/plain": [
              "0"
            ]
          },
          "metadata": {
            "tags": []
          },
          "execution_count": 9
        }
      ]
    },
    {
      "cell_type": "code",
      "metadata": {
        "id": "cNiI50mpC3Cx",
        "colab_type": "code",
        "outputId": "ba0b9ebe-3e9f-4915-f035-5baaeee7e96f",
        "colab": {
          "base_uri": "https://localhost:8080/",
          "height": 34
        }
      },
      "source": [
        "# number of records/observations and features\n",
        "df_train.shape # (59400, 41)"
      ],
      "execution_count": 0,
      "outputs": [
        {
          "output_type": "execute_result",
          "data": {
            "text/plain": [
              "(59400, 41)"
            ]
          },
          "metadata": {
            "tags": []
          },
          "execution_count": 10
        }
      ]
    },
    {
      "cell_type": "code",
      "metadata": {
        "id": "u2LTfynkC3Kc",
        "colab_type": "code",
        "outputId": "901819cc-44fd-4f28-bd5a-9ea0f846c253",
        "colab": {
          "base_uri": "https://localhost:8080/",
          "height": 68
        }
      },
      "source": [
        "# columns which have null values \n",
        "null_cols = df_train.columns[df_train.isnull().any(axis=0)]\n",
        "null_cols"
      ],
      "execution_count": 0,
      "outputs": [
        {
          "output_type": "execute_result",
          "data": {
            "text/plain": [
              "Index(['funder', 'installer', 'subvillage', 'public_meeting',\n",
              "       'scheme_management', 'scheme_name', 'permit'],\n",
              "      dtype='object')"
            ]
          },
          "metadata": {
            "tags": []
          },
          "execution_count": 11
        }
      ]
    },
    {
      "cell_type": "code",
      "metadata": {
        "id": "9rgkKNqbDv1w",
        "colab_type": "code",
        "colab": {}
      },
      "source": [
        ""
      ],
      "execution_count": 0,
      "outputs": []
    },
    {
      "cell_type": "code",
      "metadata": {
        "id": "-GSvtXC0C3Rw",
        "colab_type": "code",
        "outputId": "3a2cc2e4-db66-47e3-f005-b53054b1f744",
        "colab": {
          "base_uri": "https://localhost:8080/",
          "height": 153
        }
      },
      "source": [
        "#number of missing observations in each of the above column\n",
        "df_train[null_cols].isnull().sum()\n",
        "\n",
        "# Cross tabulating some variables -- status_group\n",
        "##pd.crosstab(df_train['status_group'],df_train['quality_group'])"
      ],
      "execution_count": 0,
      "outputs": [
        {
          "output_type": "execute_result",
          "data": {
            "text/plain": [
              "funder                3635\n",
              "installer             3655\n",
              "subvillage             371\n",
              "public_meeting        3334\n",
              "scheme_management     3877\n",
              "scheme_name          28166\n",
              "permit                3056\n",
              "dtype: int64"
            ]
          },
          "metadata": {
            "tags": []
          },
          "execution_count": 12
        }
      ]
    },
    {
      "cell_type": "markdown",
      "metadata": {
        "id": "iGNhcUBUDHCw",
        "colab_type": "text"
      },
      "source": [
        "## Feature Exploration\n",
        "\n",
        "### Features to be used:\n",
        "\n",
        "id: pump id                                                            -- identifier\n",
        "\n",
        "amount_tsh : Total static head (amount water available to waterpoint)  -- integer\n",
        "\n",
        "gps_height : Altitude of the well                                      -- integer\n",
        "\n",
        "longitude, latitude: GPS coordinates\n",
        "\n",
        "basin: Geographic water basin                                          -- 9 categories\n",
        "\n",
        "region: Geographic location                                            -- 21 categories\n",
        "\n",
        "district_code: Geographic location (coded)\n",
        "\n",
        "lga : Geographic location\n",
        "\n",
        "population: Population around the well                                   -- integer\n",
        "\n",
        "permit: If the waterpoint is permitted                                   -- 2 categories\n",
        "\n",
        "extraction_type_group: The kind of extraction the waterpoint uses        -- 13 categories\n",
        "\n",
        "management: How the waterpoint is managed                                -- 12 categories\n",
        "\n",
        "payment_type:  What the water costs                                      -- 7 categories\n",
        "\n",
        "quality_group: The quality of the water                                  -- 6 categories\n",
        "\n",
        "quantity: The quantity of water                                          -- 5 categories\n",
        "\n",
        "source: The source of the water                                          -- 10 categories\n",
        "\n",
        "status_group: target label \n",
        "\n",
        "### Discarded Features \n",
        "\n",
        "date_recorded: The date the row was entered -- there are essentially 2 main years 2011, 2013 when most of the records were made -- 5 years in total with 2012 having only 1 value \n",
        "\n",
        "wpt_name : Name of the waterpoint if there is one  -- not useful\n",
        " \n",
        "num_private: no description  \n",
        "\n",
        "region_code: Geographic location (coded) --  this doesn't mathc the region variable -- similar\n",
        "\n",
        "ward  -- there were 1978 items in this category \n",
        "\n",
        "recorded_by -- has the same value for all the rows \n",
        "\n",
        "public_meeting -- not sure what this variable is \n",
        "\n",
        "waterpoint_type --  has many 0s in crosstabulations\n",
        "\n",
        "### Features which may be useful but are problematic\n",
        "\n",
        "'funder' , 'installer'            -- too many sub categories (there are 1822 unique funders                                                out of which 1433 have funded 10 or less pumps)\n",
        "\n",
        "subvillage                        -- has 18148 unique categories \n",
        "\n",
        "construction_year                 -- has a category '0' with 18000 records (8978, 7569, 1453)"
      ]
    },
    {
      "cell_type": "code",
      "metadata": {
        "id": "W8rvqo47C3Xh",
        "colab_type": "code",
        "outputId": "ec12ff85-77f0-4c2f-e567-9400244755b5",
        "colab": {
          "base_uri": "https://localhost:8080/",
          "height": 397
        }
      },
      "source": [
        "# https://www.analyticsvidhya.com/blog/2015/11/easy-methods-deal-categorical-variables-predictive-modeling/\n",
        "series = pd.value_counts(df_train.funder)\n",
        "\n",
        "# % of each of the sub-category\n",
        "sub = (series/series.sum() * 100)\n",
        "# sub-categories which have instances greater than 1\n",
        "sub[0:20].plot(kind = 'bar')"
      ],
      "execution_count": 0,
      "outputs": [
        {
          "output_type": "execute_result",
          "data": {
            "text/plain": [
              "<matplotlib.axes._subplots.AxesSubplot at 0x7f7203c98390>"
            ]
          },
          "metadata": {
            "tags": []
          },
          "execution_count": 13
        },
        {
          "output_type": "display_data",
          "data": {
            "image/png": "[encoded data removed]",
            "text/plain": [
              "<Figure size 432x288 with 1 Axes>"
            ]
          },
          "metadata": {
            "tags": []
          }
        }
      ]
    },
    {
      "cell_type": "markdown",
      "metadata": {
        "id": "i07sppw2DSvJ",
        "colab_type": "text"
      },
      "source": [
        "## Similar Variables -- should choose one from each of these \n",
        "\n",
        "extraction  = 'extraction_type','extraction_type_group','extraction_type_class'\n",
        "\n",
        "management =  'management', 'management_group'\n",
        "\n",
        "payment ='payment', 'payment_type'                                  # these look the same \n",
        "\n",
        "water quality = 'water_quality', 'quality_group'\n",
        "\n",
        "quantity = 'quantity', 'quantity_group'                      # these look exactly the same \n",
        "\n",
        "source = 'source', 'source_type', 'source_class'\n",
        "\n",
        "waterpoint_type = 'waterpoint_type', 'waterpoint_type_group'\n",
        "\n",
        "scheme = 'scheme_management', 'scheme_name'"
      ]
    },
    {
      "cell_type": "code",
      "metadata": {
        "id": "zoMFpJvaC3ua",
        "colab_type": "code",
        "outputId": "521239c1-23a6-445c-c278-f1a446c7d650",
        "colab": {
          "base_uri": "https://localhost:8080/",
          "height": 173
        }
      },
      "source": [
        "\n",
        "# Check the number of null values across the three main class labels \n",
        "\n",
        "# -- create df with true-false assignments for missing values\n",
        "# -- group the df by the three status labels \n",
        "# -- sum across the rows for each of those groups \n",
        "# -- display only columns which have null values \n",
        "\n",
        "cols = df_train.columns\n",
        "df_train.isnull().groupby(df_train['status_group']).sum()[null_cols]"
      ],
      "execution_count": 0,
      "outputs": [
        {
          "output_type": "execute_result",
          "data": {
            "text/html": [
              "<div>\n",
              "<style scoped>\n",
              "    .dataframe tbody tr th:only-of-type {\n",
              "        vertical-align: middle;\n",
              "    }\n",
              "\n",
              "    .dataframe tbody tr th {\n",
              "        vertical-align: top;\n",
              "    }\n",
              "\n",
              "    .dataframe thead th {\n",
              "        text-align: right;\n",
              "    }\n",
              "</style>\n",
              "<table border=\"1\" class=\"dataframe\">\n",
              "  <thead>\n",
              "    <tr style=\"text-align: right;\">\n",
              "      <th></th>\n",
              "      <th>funder</th>\n",
              "      <th>installer</th>\n",
              "      <th>subvillage</th>\n",
              "      <th>public_meeting</th>\n",
              "      <th>scheme_management</th>\n",
              "      <th>scheme_name</th>\n",
              "      <th>permit</th>\n",
              "    </tr>\n",
              "    <tr>\n",
              "      <th>status_group</th>\n",
              "      <th></th>\n",
              "      <th></th>\n",
              "      <th></th>\n",
              "      <th></th>\n",
              "      <th></th>\n",
              "      <th></th>\n",
              "      <th></th>\n",
              "    </tr>\n",
              "  </thead>\n",
              "  <tbody>\n",
              "    <tr>\n",
              "      <th>functional</th>\n",
              "      <td>1981.0</td>\n",
              "      <td>2000.0</td>\n",
              "      <td>205.0</td>\n",
              "      <td>1678.0</td>\n",
              "      <td>1873.0</td>\n",
              "      <td>14488.0</td>\n",
              "      <td>1673.0</td>\n",
              "    </tr>\n",
              "    <tr>\n",
              "      <th>functional needs repair</th>\n",
              "      <td>437.0</td>\n",
              "      <td>440.0</td>\n",
              "      <td>1.0</td>\n",
              "      <td>156.0</td>\n",
              "      <td>223.0</td>\n",
              "      <td>2004.0</td>\n",
              "      <td>300.0</td>\n",
              "    </tr>\n",
              "    <tr>\n",
              "      <th>non functional</th>\n",
              "      <td>1217.0</td>\n",
              "      <td>1215.0</td>\n",
              "      <td>165.0</td>\n",
              "      <td>1500.0</td>\n",
              "      <td>1781.0</td>\n",
              "      <td>11674.0</td>\n",
              "      <td>1083.0</td>\n",
              "    </tr>\n",
              "  </tbody>\n",
              "</table>\n",
              "</div>"
            ],
            "text/plain": [
              "                         funder  installer  subvillage  public_meeting  \\\n",
              "status_group                                                             \n",
              "functional               1981.0     2000.0       205.0          1678.0   \n",
              "functional needs repair   437.0      440.0         1.0           156.0   \n",
              "non functional           1217.0     1215.0       165.0          1500.0   \n",
              "\n",
              "                         scheme_management  scheme_name  permit  \n",
              "status_group                                                     \n",
              "functional                          1873.0      14488.0  1673.0  \n",
              "functional needs repair              223.0       2004.0   300.0  \n",
              "non functional                      1781.0      11674.0  1083.0  "
            ]
          },
          "metadata": {
            "tags": []
          },
          "execution_count": 14
        }
      ]
    },
    {
      "cell_type": "code",
      "metadata": {
        "id": "a98eSt4dC3xB",
        "colab_type": "code",
        "outputId": "034196ff-87d9-4f19-dcf6-429ab87031ac",
        "colab": {
          "base_uri": "https://localhost:8080/",
          "height": 403
        }
      },
      "source": [
        "%matplotlib inline\n",
        "\n",
        "# Plotting missing values \n",
        "\n",
        "df_train.isnull().groupby(df_train['status_group']).sum()[null_cols].plot(kind='bar')\n",
        "\n",
        "##scheme name seems most problematic for all three categories "
      ],
      "execution_count": 0,
      "outputs": [
        {
          "output_type": "execute_result",
          "data": {
            "text/plain": [
              "<matplotlib.axes._subplots.AxesSubplot at 0x7f72024c35f8>"
            ]
          },
          "metadata": {
            "tags": []
          },
          "execution_count": 15
        },
        {
          "output_type": "display_data",
          "data": {
            "image/png": "[encoded data removed]",
            "text/plain": [
              "<Figure size 432x288 with 1 Axes>"
            ]
          },
          "metadata": {
            "tags": []
          }
        }
      ]
    },
    {
      "cell_type": "code",
      "metadata": {
        "id": "q_of4JqOC3zp",
        "colab_type": "code",
        "colab": {}
      },
      "source": [
        "# The feature 'scheme_name' seems to have the maximum missing values in all 3 categoreies \n",
        "# -- we will drop this variable\n",
        "# -- we drop scheme_management   -- similar to management \n",
        "# -- we drop public_meeting\n",
        "\n",
        "df_train = df_train.drop(['scheme_name','scheme_management','public_meeting'], axis=1)"
      ],
      "execution_count": 0,
      "outputs": []
    },
    {
      "cell_type": "code",
      "metadata": {
        "id": "kDCA7sgtC312",
        "colab_type": "code",
        "outputId": "21a706ec-b637-4557-a781-0fefccba2322",
        "colab": {
          "base_uri": "https://localhost:8080/",
          "height": 403
        }
      },
      "source": [
        "# Missing funder installer \n",
        "df_train.isnull().groupby(df_train['status_group']).sum()[['funder','installer','permit']].plot(kind='bar')"
      ],
      "execution_count": 0,
      "outputs": [
        {
          "output_type": "execute_result",
          "data": {
            "text/plain": [
              "<matplotlib.axes._subplots.AxesSubplot at 0x7f7203c982e8>"
            ]
          },
          "metadata": {
            "tags": []
          },
          "execution_count": 17
        },
        {
          "output_type": "display_data",
          "data": {
            "image/png": "[encoded data removed]",
            "text/plain": [
              "<Figure size 432x288 with 1 Axes>"
            ]
          },
          "metadata": {
            "tags": []
          }
        }
      ]
    },
    {
      "cell_type": "code",
      "metadata": {
        "id": "kJFCiH_ZC34C",
        "colab_type": "code",
        "colab": {}
      },
      "source": [
        "# For now dropping the funder, installer and subvillage columns -- would eventually like to use it \n",
        "df_train = df_train.drop(['funder','installer','subvillage'], axis=1)"
      ],
      "execution_count": 0,
      "outputs": []
    },
    {
      "cell_type": "code",
      "metadata": {
        "id": "MgxLUmQjC36J",
        "colab_type": "code",
        "outputId": "252cdfcf-2b0f-4030-8d04-423db479cc85",
        "colab": {
          "base_uri": "https://localhost:8080/",
          "height": 403
        }
      },
      "source": [
        "# Missing permit \n",
        "df_train.isnull().groupby(df_train['status_group']).sum()[['permit']].plot(kind='bar')"
      ],
      "execution_count": 0,
      "outputs": [
        {
          "output_type": "execute_result",
          "data": {
            "text/plain": [
              "<matplotlib.axes._subplots.AxesSubplot at 0x7f720236f0b8>"
            ]
          },
          "metadata": {
            "tags": []
          },
          "execution_count": 19
        },
        {
          "output_type": "display_data",
          "data": {
            "image/png": "[encoded data removed]",
            "text/plain": [
              "<Figure size 432x288 with 1 Axes>"
            ]
          },
          "metadata": {
            "tags": []
          }
        }
      ]
    },
    {
      "cell_type": "code",
      "metadata": {
        "id": "X0QbNGUBC3_Z",
        "colab_type": "code",
        "colab": {}
      },
      "source": [
        "# isnull() dataframe and a series method --- inverse method notnull() \n",
        "# --- axis = 0 = do sum in the direction of the 0 axis/ across the rows/ down the columns\n",
        "df_train.isnull().sum(axis=0)\n",
        "\n",
        "# -- checking how many of these null valuses are in each of the subgroup labels\n",
        "df_train.isnull().groupby(df_train['status_group']).sum()\n",
        "\n",
        "# Dropping all the rows which has a missing value\n",
        "df_train.dropna(how='any', inplace = True)"
      ],
      "execution_count": 0,
      "outputs": []
    },
    {
      "cell_type": "code",
      "metadata": {
        "id": "t7kBCFB0C4ES",
        "colab_type": "code",
        "outputId": "535f837a-9ff4-4c6c-e216-9cd506e8e384",
        "colab": {
          "base_uri": "https://localhost:8080/",
          "height": 333
        }
      },
      "source": [
        "# observations under each category \n",
        "\n",
        "print(df_train['status_group'].value_counts())\n",
        "\n",
        "df_train['status_group'].value_counts().plot(kind='pie')\n",
        "\n",
        "# -- functional but needs repair has the least number of observations "
      ],
      "execution_count": 0,
      "outputs": [
        {
          "output_type": "stream",
          "text": [
            "functional                 30586\n",
            "non functional             21741\n",
            "functional needs repair     4017\n",
            "Name: status_group, dtype: int64\n"
          ],
          "name": "stdout"
        },
        {
          "output_type": "execute_result",
          "data": {
            "text/plain": [
              "<matplotlib.axes._subplots.AxesSubplot at 0x7f72029844a8>"
            ]
          },
          "metadata": {
            "tags": []
          },
          "execution_count": 21
        },
        {
          "output_type": "display_data",
          "data": {
            "image/png": "[encoded data removed]",
            "text/plain": [
              "<Figure size 432x288 with 1 Axes>"
            ]
          },
          "metadata": {
            "tags": []
          }
        }
      ]
    },
    {
      "cell_type": "code",
      "metadata": {
        "id": "XUI0hPP_DxjJ",
        "colab_type": "code",
        "colab": {}
      },
      "source": [
        "# create a copy df for analysis\n",
        "# train2 only contains the features\n",
        "\n",
        "feat_names = ['id', 'amount_tsh','gps_height','basin', 'region', \n",
        "             'population', 'permit', 'extraction_type_group', \n",
        "            'management', 'payment_type', 'quality_group', \n",
        "             'quantity', 'source']\n",
        "\n",
        "df2 = df_train.loc[:, feat_names]"
      ],
      "execution_count": 0,
      "outputs": []
    },
    {
      "cell_type": "code",
      "metadata": {
        "id": "tCuywW-KDxmT",
        "colab_type": "code",
        "colab": {}
      },
      "source": [
        "# Rename long column names \n",
        "\n",
        "df2.rename(columns={'extraction_type_group':'extraction',\n",
        "                       'payment_type':'payment',\n",
        "                       'quality_group': 'quality'}, inplace=True)"
      ],
      "execution_count": 0,
      "outputs": []
    },
    {
      "cell_type": "code",
      "metadata": {
        "id": "46iGuUOgDxpw",
        "colab_type": "code",
        "outputId": "2ca72eb8-4640-4267-961c-23971b697d89",
        "colab": {
          "base_uri": "https://localhost:8080/",
          "height": 343
        }
      },
      "source": [
        "df2.head()"
      ],
      "execution_count": 0,
      "outputs": [
        {
          "output_type": "execute_result",
          "data": {
            "text/html": [
              "<div>\n",
              "<style scoped>\n",
              "    .dataframe tbody tr th:only-of-type {\n",
              "        vertical-align: middle;\n",
              "    }\n",
              "\n",
              "    .dataframe tbody tr th {\n",
              "        vertical-align: top;\n",
              "    }\n",
              "\n",
              "    .dataframe thead th {\n",
              "        text-align: right;\n",
              "    }\n",
              "</style>\n",
              "<table border=\"1\" class=\"dataframe\">\n",
              "  <thead>\n",
              "    <tr style=\"text-align: right;\">\n",
              "      <th></th>\n",
              "      <th>id</th>\n",
              "      <th>amount_tsh</th>\n",
              "      <th>gps_height</th>\n",
              "      <th>basin</th>\n",
              "      <th>region</th>\n",
              "      <th>population</th>\n",
              "      <th>permit</th>\n",
              "      <th>extraction</th>\n",
              "      <th>management</th>\n",
              "      <th>payment</th>\n",
              "      <th>quality</th>\n",
              "      <th>quantity</th>\n",
              "      <th>source</th>\n",
              "    </tr>\n",
              "  </thead>\n",
              "  <tbody>\n",
              "    <tr>\n",
              "      <th>0</th>\n",
              "      <td>69572</td>\n",
              "      <td>6000.0</td>\n",
              "      <td>1390</td>\n",
              "      <td>Lake Nyasa</td>\n",
              "      <td>Iringa</td>\n",
              "      <td>109</td>\n",
              "      <td>False</td>\n",
              "      <td>gravity</td>\n",
              "      <td>vwc</td>\n",
              "      <td>annually</td>\n",
              "      <td>good</td>\n",
              "      <td>enough</td>\n",
              "      <td>spring</td>\n",
              "    </tr>\n",
              "    <tr>\n",
              "      <th>1</th>\n",
              "      <td>8776</td>\n",
              "      <td>0.0</td>\n",
              "      <td>1399</td>\n",
              "      <td>Lake Victoria</td>\n",
              "      <td>Mara</td>\n",
              "      <td>280</td>\n",
              "      <td>True</td>\n",
              "      <td>gravity</td>\n",
              "      <td>wug</td>\n",
              "      <td>never pay</td>\n",
              "      <td>good</td>\n",
              "      <td>insufficient</td>\n",
              "      <td>rainwater harvesting</td>\n",
              "    </tr>\n",
              "    <tr>\n",
              "      <th>2</th>\n",
              "      <td>34310</td>\n",
              "      <td>25.0</td>\n",
              "      <td>686</td>\n",
              "      <td>Pangani</td>\n",
              "      <td>Manyara</td>\n",
              "      <td>250</td>\n",
              "      <td>True</td>\n",
              "      <td>gravity</td>\n",
              "      <td>vwc</td>\n",
              "      <td>per bucket</td>\n",
              "      <td>good</td>\n",
              "      <td>enough</td>\n",
              "      <td>dam</td>\n",
              "    </tr>\n",
              "    <tr>\n",
              "      <th>3</th>\n",
              "      <td>67743</td>\n",
              "      <td>0.0</td>\n",
              "      <td>263</td>\n",
              "      <td>Ruvuma / Southern Coast</td>\n",
              "      <td>Mtwara</td>\n",
              "      <td>58</td>\n",
              "      <td>True</td>\n",
              "      <td>submersible</td>\n",
              "      <td>vwc</td>\n",
              "      <td>never pay</td>\n",
              "      <td>good</td>\n",
              "      <td>dry</td>\n",
              "      <td>machine dbh</td>\n",
              "    </tr>\n",
              "    <tr>\n",
              "      <th>4</th>\n",
              "      <td>19728</td>\n",
              "      <td>0.0</td>\n",
              "      <td>0</td>\n",
              "      <td>Lake Victoria</td>\n",
              "      <td>Kagera</td>\n",
              "      <td>0</td>\n",
              "      <td>True</td>\n",
              "      <td>gravity</td>\n",
              "      <td>other</td>\n",
              "      <td>never pay</td>\n",
              "      <td>good</td>\n",
              "      <td>seasonal</td>\n",
              "      <td>rainwater harvesting</td>\n",
              "    </tr>\n",
              "  </tbody>\n",
              "</table>\n",
              "</div>"
            ],
            "text/plain": [
              "      id  amount_tsh  gps_height                    basin   region  \\\n",
              "0  69572      6000.0        1390               Lake Nyasa   Iringa   \n",
              "1   8776         0.0        1399            Lake Victoria     Mara   \n",
              "2  34310        25.0         686                  Pangani  Manyara   \n",
              "3  67743         0.0         263  Ruvuma / Southern Coast   Mtwara   \n",
              "4  19728         0.0           0            Lake Victoria   Kagera   \n",
              "\n",
              "   population permit   extraction management     payment quality  \\\n",
              "0         109  False      gravity        vwc    annually    good   \n",
              "1         280   True      gravity        wug   never pay    good   \n",
              "2         250   True      gravity        vwc  per bucket    good   \n",
              "3          58   True  submersible        vwc   never pay    good   \n",
              "4           0   True      gravity      other   never pay    good   \n",
              "\n",
              "       quantity                source  \n",
              "0        enough                spring  \n",
              "1  insufficient  rainwater harvesting  \n",
              "2        enough                   dam  \n",
              "3           dry           machine dbh  \n",
              "4      seasonal  rainwater harvesting  "
            ]
          },
          "metadata": {
            "tags": []
          },
          "execution_count": 24
        }
      ]
    },
    {
      "cell_type": "code",
      "metadata": {
        "id": "Oewa-LyODxsQ",
        "colab_type": "code",
        "colab": {}
      },
      "source": [
        "# create dummy variales for all the categorical data \n",
        "\n",
        "df2 = pd.get_dummies(df2, drop_first=True)"
      ],
      "execution_count": 0,
      "outputs": []
    },
    {
      "cell_type": "code",
      "metadata": {
        "id": "80FYnMrSDxuh",
        "colab_type": "code",
        "outputId": "017bf36d-22c3-4e7b-90e6-e0372a5781c8",
        "colab": {
          "base_uri": "https://localhost:8080/",
          "height": 287
        }
      },
      "source": [
        "df2.head()"
      ],
      "execution_count": 0,
      "outputs": [
        {
          "output_type": "execute_result",
          "data": {
            "text/html": [
              "<div>\n",
              "<style scoped>\n",
              "    .dataframe tbody tr th:only-of-type {\n",
              "        vertical-align: middle;\n",
              "    }\n",
              "\n",
              "    .dataframe tbody tr th {\n",
              "        vertical-align: top;\n",
              "    }\n",
              "\n",
              "    .dataframe thead th {\n",
              "        text-align: right;\n",
              "    }\n",
              "</style>\n",
              "<table border=\"1\" class=\"dataframe\">\n",
              "  <thead>\n",
              "    <tr style=\"text-align: right;\">\n",
              "      <th></th>\n",
              "      <th>id</th>\n",
              "      <th>amount_tsh</th>\n",
              "      <th>gps_height</th>\n",
              "      <th>population</th>\n",
              "      <th>basin_Lake Nyasa</th>\n",
              "      <th>basin_Lake Rukwa</th>\n",
              "      <th>basin_Lake Tanganyika</th>\n",
              "      <th>basin_Lake Victoria</th>\n",
              "      <th>basin_Pangani</th>\n",
              "      <th>basin_Rufiji</th>\n",
              "      <th>basin_Ruvuma / Southern Coast</th>\n",
              "      <th>basin_Wami / Ruvu</th>\n",
              "      <th>region_Dar es Salaam</th>\n",
              "      <th>region_Dodoma</th>\n",
              "      <th>region_Iringa</th>\n",
              "      <th>region_Kagera</th>\n",
              "      <th>region_Kigoma</th>\n",
              "      <th>region_Kilimanjaro</th>\n",
              "      <th>region_Lindi</th>\n",
              "      <th>region_Manyara</th>\n",
              "      <th>region_Mara</th>\n",
              "      <th>region_Mbeya</th>\n",
              "      <th>region_Morogoro</th>\n",
              "      <th>region_Mtwara</th>\n",
              "      <th>region_Mwanza</th>\n",
              "      <th>...</th>\n",
              "      <th>management_wug</th>\n",
              "      <th>payment_monthly</th>\n",
              "      <th>payment_never pay</th>\n",
              "      <th>payment_on failure</th>\n",
              "      <th>payment_other</th>\n",
              "      <th>payment_per bucket</th>\n",
              "      <th>payment_unknown</th>\n",
              "      <th>quality_fluoride</th>\n",
              "      <th>quality_good</th>\n",
              "      <th>quality_milky</th>\n",
              "      <th>quality_salty</th>\n",
              "      <th>quality_unknown</th>\n",
              "      <th>quantity_enough</th>\n",
              "      <th>quantity_insufficient</th>\n",
              "      <th>quantity_seasonal</th>\n",
              "      <th>quantity_unknown</th>\n",
              "      <th>source_hand dtw</th>\n",
              "      <th>source_lake</th>\n",
              "      <th>source_machine dbh</th>\n",
              "      <th>source_other</th>\n",
              "      <th>source_rainwater harvesting</th>\n",
              "      <th>source_river</th>\n",
              "      <th>source_shallow well</th>\n",
              "      <th>source_spring</th>\n",
              "      <th>source_unknown</th>\n",
              "    </tr>\n",
              "  </thead>\n",
              "  <tbody>\n",
              "    <tr>\n",
              "      <th>0</th>\n",
              "      <td>69572</td>\n",
              "      <td>6000.0</td>\n",
              "      <td>1390</td>\n",
              "      <td>109</td>\n",
              "      <td>1</td>\n",
              "      <td>0</td>\n",
              "      <td>0</td>\n",
              "      <td>0</td>\n",
              "      <td>0</td>\n",
              "      <td>0</td>\n",
              "      <td>0</td>\n",
              "      <td>0</td>\n",
              "      <td>0</td>\n",
              "      <td>0</td>\n",
              "      <td>1</td>\n",
              "      <td>0</td>\n",
              "      <td>0</td>\n",
              "      <td>0</td>\n",
              "      <td>0</td>\n",
              "      <td>0</td>\n",
              "      <td>0</td>\n",
              "      <td>0</td>\n",
              "      <td>0</td>\n",
              "      <td>0</td>\n",
              "      <td>0</td>\n",
              "      <td>...</td>\n",
              "      <td>0</td>\n",
              "      <td>0</td>\n",
              "      <td>0</td>\n",
              "      <td>0</td>\n",
              "      <td>0</td>\n",
              "      <td>0</td>\n",
              "      <td>0</td>\n",
              "      <td>0</td>\n",
              "      <td>1</td>\n",
              "      <td>0</td>\n",
              "      <td>0</td>\n",
              "      <td>0</td>\n",
              "      <td>1</td>\n",
              "      <td>0</td>\n",
              "      <td>0</td>\n",
              "      <td>0</td>\n",
              "      <td>0</td>\n",
              "      <td>0</td>\n",
              "      <td>0</td>\n",
              "      <td>0</td>\n",
              "      <td>0</td>\n",
              "      <td>0</td>\n",
              "      <td>0</td>\n",
              "      <td>1</td>\n",
              "      <td>0</td>\n",
              "    </tr>\n",
              "    <tr>\n",
              "      <th>1</th>\n",
              "      <td>8776</td>\n",
              "      <td>0.0</td>\n",
              "      <td>1399</td>\n",
              "      <td>280</td>\n",
              "      <td>0</td>\n",
              "      <td>0</td>\n",
              "      <td>0</td>\n",
              "      <td>1</td>\n",
              "      <td>0</td>\n",
              "      <td>0</td>\n",
              "      <td>0</td>\n",
              "      <td>0</td>\n",
              "      <td>0</td>\n",
              "      <td>0</td>\n",
              "      <td>0</td>\n",
              "      <td>0</td>\n",
              "      <td>0</td>\n",
              "      <td>0</td>\n",
              "      <td>0</td>\n",
              "      <td>0</td>\n",
              "      <td>1</td>\n",
              "      <td>0</td>\n",
              "      <td>0</td>\n",
              "      <td>0</td>\n",
              "      <td>0</td>\n",
              "      <td>...</td>\n",
              "      <td>1</td>\n",
              "      <td>0</td>\n",
              "      <td>1</td>\n",
              "      <td>0</td>\n",
              "      <td>0</td>\n",
              "      <td>0</td>\n",
              "      <td>0</td>\n",
              "      <td>0</td>\n",
              "      <td>1</td>\n",
              "      <td>0</td>\n",
              "      <td>0</td>\n",
              "      <td>0</td>\n",
              "      <td>0</td>\n",
              "      <td>1</td>\n",
              "      <td>0</td>\n",
              "      <td>0</td>\n",
              "      <td>0</td>\n",
              "      <td>0</td>\n",
              "      <td>0</td>\n",
              "      <td>0</td>\n",
              "      <td>1</td>\n",
              "      <td>0</td>\n",
              "      <td>0</td>\n",
              "      <td>0</td>\n",
              "      <td>0</td>\n",
              "    </tr>\n",
              "    <tr>\n",
              "      <th>2</th>\n",
              "      <td>34310</td>\n",
              "      <td>25.0</td>\n",
              "      <td>686</td>\n",
              "      <td>250</td>\n",
              "      <td>0</td>\n",
              "      <td>0</td>\n",
              "      <td>0</td>\n",
              "      <td>0</td>\n",
              "      <td>1</td>\n",
              "      <td>0</td>\n",
              "      <td>0</td>\n",
              "      <td>0</td>\n",
              "      <td>0</td>\n",
              "      <td>0</td>\n",
              "      <td>0</td>\n",
              "      <td>0</td>\n",
              "      <td>0</td>\n",
              "      <td>0</td>\n",
              "      <td>0</td>\n",
              "      <td>1</td>\n",
              "      <td>0</td>\n",
              "      <td>0</td>\n",
              "      <td>0</td>\n",
              "      <td>0</td>\n",
              "      <td>0</td>\n",
              "      <td>...</td>\n",
              "      <td>0</td>\n",
              "      <td>0</td>\n",
              "      <td>0</td>\n",
              "      <td>0</td>\n",
              "      <td>0</td>\n",
              "      <td>1</td>\n",
              "      <td>0</td>\n",
              "      <td>0</td>\n",
              "      <td>1</td>\n",
              "      <td>0</td>\n",
              "      <td>0</td>\n",
              "      <td>0</td>\n",
              "      <td>1</td>\n",
              "      <td>0</td>\n",
              "      <td>0</td>\n",
              "      <td>0</td>\n",
              "      <td>0</td>\n",
              "      <td>0</td>\n",
              "      <td>0</td>\n",
              "      <td>0</td>\n",
              "      <td>0</td>\n",
              "      <td>0</td>\n",
              "      <td>0</td>\n",
              "      <td>0</td>\n",
              "      <td>0</td>\n",
              "    </tr>\n",
              "    <tr>\n",
              "      <th>3</th>\n",
              "      <td>67743</td>\n",
              "      <td>0.0</td>\n",
              "      <td>263</td>\n",
              "      <td>58</td>\n",
              "      <td>0</td>\n",
              "      <td>0</td>\n",
              "      <td>0</td>\n",
              "      <td>0</td>\n",
              "      <td>0</td>\n",
              "      <td>0</td>\n",
              "      <td>1</td>\n",
              "      <td>0</td>\n",
              "      <td>0</td>\n",
              "      <td>0</td>\n",
              "      <td>0</td>\n",
              "      <td>0</td>\n",
              "      <td>0</td>\n",
              "      <td>0</td>\n",
              "      <td>0</td>\n",
              "      <td>0</td>\n",
              "      <td>0</td>\n",
              "      <td>0</td>\n",
              "      <td>0</td>\n",
              "      <td>1</td>\n",
              "      <td>0</td>\n",
              "      <td>...</td>\n",
              "      <td>0</td>\n",
              "      <td>0</td>\n",
              "      <td>1</td>\n",
              "      <td>0</td>\n",
              "      <td>0</td>\n",
              "      <td>0</td>\n",
              "      <td>0</td>\n",
              "      <td>0</td>\n",
              "      <td>1</td>\n",
              "      <td>0</td>\n",
              "      <td>0</td>\n",
              "      <td>0</td>\n",
              "      <td>0</td>\n",
              "      <td>0</td>\n",
              "      <td>0</td>\n",
              "      <td>0</td>\n",
              "      <td>0</td>\n",
              "      <td>0</td>\n",
              "      <td>1</td>\n",
              "      <td>0</td>\n",
              "      <td>0</td>\n",
              "      <td>0</td>\n",
              "      <td>0</td>\n",
              "      <td>0</td>\n",
              "      <td>0</td>\n",
              "    </tr>\n",
              "    <tr>\n",
              "      <th>4</th>\n",
              "      <td>19728</td>\n",
              "      <td>0.0</td>\n",
              "      <td>0</td>\n",
              "      <td>0</td>\n",
              "      <td>0</td>\n",
              "      <td>0</td>\n",
              "      <td>0</td>\n",
              "      <td>1</td>\n",
              "      <td>0</td>\n",
              "      <td>0</td>\n",
              "      <td>0</td>\n",
              "      <td>0</td>\n",
              "      <td>0</td>\n",
              "      <td>0</td>\n",
              "      <td>0</td>\n",
              "      <td>1</td>\n",
              "      <td>0</td>\n",
              "      <td>0</td>\n",
              "      <td>0</td>\n",
              "      <td>0</td>\n",
              "      <td>0</td>\n",
              "      <td>0</td>\n",
              "      <td>0</td>\n",
              "      <td>0</td>\n",
              "      <td>0</td>\n",
              "      <td>...</td>\n",
              "      <td>0</td>\n",
              "      <td>0</td>\n",
              "      <td>1</td>\n",
              "      <td>0</td>\n",
              "      <td>0</td>\n",
              "      <td>0</td>\n",
              "      <td>0</td>\n",
              "      <td>0</td>\n",
              "      <td>1</td>\n",
              "      <td>0</td>\n",
              "      <td>0</td>\n",
              "      <td>0</td>\n",
              "      <td>0</td>\n",
              "      <td>0</td>\n",
              "      <td>1</td>\n",
              "      <td>0</td>\n",
              "      <td>0</td>\n",
              "      <td>0</td>\n",
              "      <td>0</td>\n",
              "      <td>0</td>\n",
              "      <td>1</td>\n",
              "      <td>0</td>\n",
              "      <td>0</td>\n",
              "      <td>0</td>\n",
              "      <td>0</td>\n",
              "    </tr>\n",
              "  </tbody>\n",
              "</table>\n",
              "<p>5 rows × 80 columns</p>\n",
              "</div>"
            ],
            "text/plain": [
              "      id  amount_tsh  gps_height  population  basin_Lake Nyasa  \\\n",
              "0  69572      6000.0        1390         109                 1   \n",
              "1   8776         0.0        1399         280                 0   \n",
              "2  34310        25.0         686         250                 0   \n",
              "3  67743         0.0         263          58                 0   \n",
              "4  19728         0.0           0           0                 0   \n",
              "\n",
              "   basin_Lake Rukwa  basin_Lake Tanganyika  basin_Lake Victoria  \\\n",
              "0                 0                      0                    0   \n",
              "1                 0                      0                    1   \n",
              "2                 0                      0                    0   \n",
              "3                 0                      0                    0   \n",
              "4                 0                      0                    1   \n",
              "\n",
              "   basin_Pangani  basin_Rufiji  basin_Ruvuma / Southern Coast  \\\n",
              "0              0             0                              0   \n",
              "1              0             0                              0   \n",
              "2              1             0                              0   \n",
              "3              0             0                              1   \n",
              "4              0             0                              0   \n",
              "\n",
              "   basin_Wami / Ruvu  region_Dar es Salaam  region_Dodoma  region_Iringa  \\\n",
              "0                  0                     0              0              1   \n",
              "1                  0                     0              0              0   \n",
              "2                  0                     0              0              0   \n",
              "3                  0                     0              0              0   \n",
              "4                  0                     0              0              0   \n",
              "\n",
              "   region_Kagera  region_Kigoma  region_Kilimanjaro  region_Lindi  \\\n",
              "0              0              0                   0             0   \n",
              "1              0              0                   0             0   \n",
              "2              0              0                   0             0   \n",
              "3              0              0                   0             0   \n",
              "4              1              0                   0             0   \n",
              "\n",
              "   region_Manyara  region_Mara  region_Mbeya  region_Morogoro  region_Mtwara  \\\n",
              "0               0            0             0                0              0   \n",
              "1               0            1             0                0              0   \n",
              "2               1            0             0                0              0   \n",
              "3               0            0             0                0              1   \n",
              "4               0            0             0                0              0   \n",
              "\n",
              "   region_Mwanza  ...  management_wug  payment_monthly  payment_never pay  \\\n",
              "0              0  ...               0                0                  0   \n",
              "1              0  ...               1                0                  1   \n",
              "2              0  ...               0                0                  0   \n",
              "3              0  ...               0                0                  1   \n",
              "4              0  ...               0                0                  1   \n",
              "\n",
              "   payment_on failure  payment_other  payment_per bucket  payment_unknown  \\\n",
              "0                   0              0                   0                0   \n",
              "1                   0              0                   0                0   \n",
              "2                   0              0                   1                0   \n",
              "3                   0              0                   0                0   \n",
              "4                   0              0                   0                0   \n",
              "\n",
              "   quality_fluoride  quality_good  quality_milky  quality_salty  \\\n",
              "0                 0             1              0              0   \n",
              "1                 0             1              0              0   \n",
              "2                 0             1              0              0   \n",
              "3                 0             1              0              0   \n",
              "4                 0             1              0              0   \n",
              "\n",
              "   quality_unknown  quantity_enough  quantity_insufficient  quantity_seasonal  \\\n",
              "0                0                1                      0                  0   \n",
              "1                0                0                      1                  0   \n",
              "2                0                1                      0                  0   \n",
              "3                0                0                      0                  0   \n",
              "4                0                0                      0                  1   \n",
              "\n",
              "   quantity_unknown  source_hand dtw  source_lake  source_machine dbh  \\\n",
              "0                 0                0            0                   0   \n",
              "1                 0                0            0                   0   \n",
              "2                 0                0            0                   0   \n",
              "3                 0                0            0                   1   \n",
              "4                 0                0            0                   0   \n",
              "\n",
              "   source_other  source_rainwater harvesting  source_river  \\\n",
              "0             0                            0             0   \n",
              "1             0                            1             0   \n",
              "2             0                            0             0   \n",
              "3             0                            0             0   \n",
              "4             0                            1             0   \n",
              "\n",
              "   source_shallow well  source_spring  source_unknown  \n",
              "0                    0              1               0  \n",
              "1                    0              0               0  \n",
              "2                    0              0               0  \n",
              "3                    0              0               0  \n",
              "4                    0              0               0  \n",
              "\n",
              "[5 rows x 80 columns]"
            ]
          },
          "metadata": {
            "tags": []
          },
          "execution_count": 26
        }
      ]
    },
    {
      "cell_type": "code",
      "metadata": {
        "id": "znvBvp7EDxwy",
        "colab_type": "code",
        "colab": {}
      },
      "source": [
        "# creating numerical labels for the target: functional -- 0; functional needs repair -- 1; non functional -- 2\n",
        "\n",
        "y2 = df_train.loc[:,['status_group']]\n",
        "y2 = y2['status_group'].astype('category').cat.codes"
      ],
      "execution_count": 0,
      "outputs": []
    },
    {
      "cell_type": "code",
      "metadata": {
        "id": "QgqKJhcuDxzB",
        "colab_type": "code",
        "colab": {}
      },
      "source": [
        "# Adding converted labels to df2\n",
        "\n",
        "df2['status_group']=y2.tolist()"
      ],
      "execution_count": 0,
      "outputs": []
    },
    {
      "cell_type": "code",
      "metadata": {
        "id": "D3ajG6n5Dx1I",
        "colab_type": "code",
        "colab": {}
      },
      "source": [
        "# creating a test and train set by splitting the data into 80:20 ratio \n",
        "# y contains all the labels \n",
        "# x contains all the features \n",
        "\n",
        "y = df2.status_group\n",
        "x = df2.drop('status_group',axis=1)\n",
        "\n",
        "# splitting \n",
        "# x_train and y_train contains the training data \n",
        "x_train,x_test,y_train,y_test = train_test_split(x,y,test_size=0.2, random_state=0)"
      ],
      "execution_count": 0,
      "outputs": []
    },
    {
      "cell_type": "code",
      "metadata": {
        "id": "nFjmzoc7Dx34",
        "colab_type": "code",
        "outputId": "e0c2d1b0-19cd-4de5-b0af-3f12e1abdb29",
        "colab": {
          "base_uri": "https://localhost:8080/",
          "height": 85
        }
      },
      "source": [
        "# Since there is class imbalance -- undersample from the train data to make the ratio of all classes equal\n",
        "# there are 3246 observations in the smallest class -- 1 -- functional but needs repair \n",
        "\n",
        "y_train.value_counts()"
      ],
      "execution_count": 0,
      "outputs": [
        {
          "output_type": "execute_result",
          "data": {
            "text/plain": [
              "0    24455\n",
              "2    17374\n",
              "1     3246\n",
              "Name: status_group, dtype: int64"
            ]
          },
          "metadata": {
            "tags": []
          },
          "execution_count": 30
        }
      ]
    },
    {
      "cell_type": "markdown",
      "metadata": {
        "id": "XTr3ouFHuwRk",
        "colab_type": "text"
      },
      "source": [
        "#Classification \n",
        "\n",
        "##Models Used:\n",
        "\n",
        "1. Logistic Regression\n",
        "2. Support Vetcor Machine\n",
        "3. K-Nearest Neighbor Classifier\n",
        "4. Decision Tree Classifier \n",
        "\n",
        "\n"
      ]
    },
    {
      "cell_type": "code",
      "metadata": {
        "id": "FfMvE8wdxstP",
        "colab_type": "code",
        "colab": {}
      },
      "source": [
        "import numpy as np\n",
        "class_names = np.unique(df_train.status_group)"
      ],
      "execution_count": 0,
      "outputs": []
    },
    {
      "cell_type": "code",
      "metadata": {
        "id": "x-JRM71mNJkK",
        "colab_type": "code",
        "outputId": "f4716b70-2f8f-43a7-9cbf-754025cb5d9d",
        "colab": {
          "base_uri": "https://localhost:8080/",
          "height": 313
        }
      },
      "source": [
        "#Logistic Regression\n",
        "from sklearn.linear_model import LogisticRegression\n",
        "from sklearn.metrics import plot_confusion_matrix, plot_roc_curve\n",
        "import matplotlib.pyplot as plt\n",
        "\n",
        "logreg = LogisticRegression(solver='lbfgs', multi_class='ovr', max_iter = 1000)\n",
        "logreg.fit(x_train,y_train)\n",
        "logreg_pred = logreg.predict(x_test)\n",
        "print(\"Logistic Regression Training Accuracy:{:.4f}\".format(logreg.score(x_train,y_train)))\n",
        "print(\"Logistic Regression Test Accuracy:{:.4f}\".format(logreg.score(x_test,y_test)))\n",
        "\n",
        "class_names = ['functional','needs repair','non-functional']\n",
        "disp = plot_confusion_matrix(logreg, x_test, y_test,\n",
        "                                 display_labels=class_names,\n",
        "                                 cmap=plt.cm.Blues,\n",
        "                                 normalize='true')\n",
        "#disp.ax_.set_title(title)\n",
        "plt.show()"
      ],
      "execution_count": 0,
      "outputs": [
        {
          "output_type": "stream",
          "text": [
            "Logistic Regression Training Accuracy:0.6739\n",
            "Logistic Regression Test Accuracy:0.6734\n"
          ],
          "name": "stdout"
        },
        {
          "output_type": "display_data",
          "data": {
            "image/png": "[encoded data removed]",
            "text/plain": [
              "<Figure size 432x288 with 2 Axes>"
            ]
          },
          "metadata": {
            "tags": []
          }
        }
      ]
    },
    {
      "cell_type": "code",
      "metadata": {
        "id": "QSPcztkrNJ6Q",
        "colab_type": "code",
        "outputId": "1b514963-c80b-455e-9018-0c656334f26a",
        "colab": {
          "base_uri": "https://localhost:8080/",
          "height": 313
        }
      },
      "source": [
        "# Support Vector Machine\n",
        "from sklearn.linear_model import SGDClassifier\n",
        "\n",
        "svmc = SGDClassifier(random_state=1)\n",
        "svmc.fit(x_train,y_train)\n",
        "\n",
        "print(\"Support Vector Machine Training Accuracy:{:.4f}\".format(svmc.score(x_train,y_train)))\n",
        "print(\"Support Vector Machine Test Accuracy:{:.4f}\".format(svmc.score(x_test,y_test)))\n",
        "\n",
        "disp = plot_confusion_matrix(svmc, x_test, y_test,\n",
        "                                 display_labels=class_names,\n",
        "                                 cmap=plt.cm.Blues,\n",
        "                                 normalize='true')\n",
        "#disp.ax_.set_title(title)\n",
        "plt.show()"
      ],
      "execution_count": 0,
      "outputs": [
        {
          "output_type": "stream",
          "text": [
            "Support Vector Machine Training Accuracy:0.4977\n",
            "Support Vector Machine Test Accuracy:0.5026\n"
          ],
          "name": "stdout"
        },
        {
          "output_type": "display_data",
          "data": {
            "image/png": "[encoded data removed]",
            "text/plain": [
              "<Figure size 432x288 with 2 Axes>"
            ]
          },
          "metadata": {
            "tags": []
          }
        }
      ]
    },
    {
      "cell_type": "code",
      "metadata": {
        "id": "VLWfSPk_NKHR",
        "colab_type": "code",
        "outputId": "cf76f247-1746-405e-e987-2315cc9557cb",
        "colab": {
          "base_uri": "https://localhost:8080/",
          "height": 313
        }
      },
      "source": [
        "# K-Nearest Neighbor Classifier\n",
        "from sklearn.neighbors import KNeighborsClassifier\n",
        "\n",
        "knn = KNeighborsClassifier(n_neighbors=9)\n",
        "knn.fit(x_train,y_train)\n",
        "\n",
        "print(\"K-Nearest Neighbor Training Accuracy:{:.4f}\".format(knn.score(x_train,y_train)))\n",
        "print(\"K-Nearest Neighbor Test Accuracy:{:.4f}\".format(knn.score(x_test,y_test)))\n",
        "\n",
        "disp = plot_confusion_matrix(knn, x_test, y_test,\n",
        "                                 display_labels=class_names,\n",
        "                                 cmap=plt.cm.Blues,\n",
        "                                 normalize='true')\n",
        "\n",
        "plt.show()"
      ],
      "execution_count": 0,
      "outputs": [
        {
          "output_type": "stream",
          "text": [
            "K-Nearest Neighbor Training Accuracy:0.6292\n",
            "K-Nearest Neighbor Test Accuracy:0.5331\n"
          ],
          "name": "stdout"
        },
        {
          "output_type": "display_data",
          "data": {
            "image/png": "[encoded data removed]",
            "text/plain": [
              "<Figure size 432x288 with 2 Axes>"
            ]
          },
          "metadata": {
            "tags": []
          }
        }
      ]
    },
    {
      "cell_type": "code",
      "metadata": {
        "id": "Av1W204buS8X",
        "colab_type": "code",
        "outputId": "09e736b4-8080-41d9-e55b-9ee6e15c4877",
        "colab": {
          "base_uri": "https://localhost:8080/",
          "height": 313
        }
      },
      "source": [
        "from sklearn.tree import DecisionTreeClassifier\n",
        "\n",
        "dt = DecisionTreeClassifier(max_depth=20)\n",
        "dt.fit(x_train,y_train)\n",
        "\n",
        "print(\"Decision Trees Classifier Train Accuracy:{:.4f}\".format(dt.score(x_train,y_train)))\n",
        "print(\"Decision Trees Classifier Test Accuracy:{:.4f}\".format(dt.score(x_test,y_test)))\n",
        "\n",
        "disp = plot_confusion_matrix(dt, x_test, y_test,\n",
        "                                 display_labels=class_names,\n",
        "                                 cmap=plt.cm.Blues,\n",
        "                                 normalize='true')\n",
        "\n",
        "plt.show()"
      ],
      "execution_count": 0,
      "outputs": [
        {
          "output_type": "stream",
          "text": [
            "Decision Trees Classifier Train Accuracy:0.8842\n",
            "Decision Trees Classifier Test Accuracy:0.7284\n"
          ],
          "name": "stdout"
        },
        {
          "output_type": "display_data",
          "data": {
            "image/png": "[encoded data removed]",
            "text/plain": [
              "<Figure size 432x288 with 2 Axes>"
            ]
          },
          "metadata": {
            "tags": []
          }
        }
      ]
    },
    {
      "cell_type": "markdown",
      "metadata": {
        "id": "DUY2HusuwTRD",
        "colab_type": "text"
      },
      "source": [
        "## Ensemble Models \n",
        "\n",
        "1. Random Forests Classifier\n",
        "2. Voting Classifier \n",
        "3. Bagging Classifier\n"
      ]
    },
    {
      "cell_type": "code",
      "metadata": {
        "id": "Zj9IucKcNKNx",
        "colab_type": "code",
        "outputId": "f3314476-289c-4936-c416-bed31cc8f517",
        "colab": {
          "base_uri": "https://localhost:8080/",
          "height": 313
        }
      },
      "source": [
        "# Random Forest\n",
        "from sklearn.ensemble import RandomForestClassifier\n",
        "\n",
        "randomforest = RandomForestClassifier(n_estimators=900, max_depth=20)\n",
        "randomforest.fit(x_train,y_train)\n",
        "\n",
        "print(\"Random Forest Train Accuracy:{:.4f}\".format(randomforest.score(x_train,y_train)))\n",
        "print(\"Random Forest Test Accuracy:{:.4f}\".format(randomforest.score(x_test,y_test)))\n",
        "\n",
        "disp = plot_confusion_matrix(randomforest, x_test, y_test,\n",
        "                                 display_labels=class_names,\n",
        "                                 cmap=plt.cm.Blues,\n",
        "                                 normalize='true')\n",
        "\n",
        "plt.show()"
      ],
      "execution_count": 0,
      "outputs": [
        {
          "output_type": "stream",
          "text": [
            "Random Forest Train Accuracy:0.9001\n",
            "Random Forest Test Accuracy:0.7738\n"
          ],
          "name": "stdout"
        },
        {
          "output_type": "display_data",
          "data": {
            "image/png": "[encoded data removed]",
            "text/plain": [
              "<Figure size 432x288 with 2 Axes>"
            ]
          },
          "metadata": {
            "tags": []
          }
        }
      ]
    },
    {
      "cell_type": "code",
      "metadata": {
        "id": "ge6uC59XWku2",
        "colab_type": "code",
        "outputId": "579a3697-e6b1-4323-8d44-7a26b7e3b05f",
        "colab": {
          "base_uri": "https://localhost:8080/",
          "height": 313
        }
      },
      "source": [
        "from sklearn.ensemble import VotingClassifier, ExtraTreesClassifier\n",
        "\n",
        "et = ExtraTreesClassifier()\n",
        "\n",
        "voting = VotingClassifier(estimators=[('1',logreg),('2',svmc),('3',knn),('4',dt),('5',et),('6',randomforest)], voting='hard')\n",
        "voting.fit(x_train,y_train)\n",
        "\n",
        "print(\"Ensemble: Voting Classifier Train Accuracy:{:.4f}\".format(voting.score(x_train,y_train)))\n",
        "print(\"Ensemble: Voting Classifier Test Accuracy:{:.4f}\".format(voting.score(x_test,y_test)))\n",
        "\n",
        "disp = plot_confusion_matrix(voting, x_test, y_test,\n",
        "                                 display_labels=class_names,\n",
        "                                 cmap=plt.cm.Blues,\n",
        "                                 normalize='true')\n",
        "\n",
        "plt.show() "
      ],
      "execution_count": 0,
      "outputs": [
        {
          "output_type": "stream",
          "text": [
            "Ensemble: Voting Classifier Train Accuracy:0.8564\n",
            "Ensemble: Voting Classifier Test Accuracy:0.7452\n"
          ],
          "name": "stdout"
        },
        {
          "output_type": "display_data",
          "data": {
            "image/png": "[encoded data removed]",
            "text/plain": [
              "<Figure size 432x288 with 2 Axes>"
            ]
          },
          "metadata": {
            "tags": []
          }
        }
      ]
    },
    {
      "cell_type": "code",
      "metadata": {
        "id": "Qwm3TDuiWkyH",
        "colab_type": "code",
        "outputId": "df9d9497-c172-4ed5-efd0-761c168ec4d7",
        "colab": {
          "base_uri": "https://localhost:8080/",
          "height": 313
        }
      },
      "source": [
        "from sklearn.ensemble import BaggingClassifier\n",
        "\n",
        "bagging = BaggingClassifier(DecisionTreeClassifier(max_depth=20, random_state=1), n_estimators=500, bootstrap=True, random_state=1)\n",
        "bagging.fit(x_train, y_train)\n",
        "\n",
        "print(\"Ensemble: Bagging Classifier Train Accuracy:{:.4f}\".format(bagging.score(x_train,y_train)))\n",
        "print(\"Ensemble: Bagging Classifier Test Accuracy:{:.4f}\".format(bagging.score(x_test,y_test)))\n",
        "\n",
        "disp = plot_confusion_matrix(bagging, x_test, y_test,\n",
        "                                 display_labels=class_names,\n",
        "                                 cmap=plt.cm.Blues,\n",
        "                                 normalize='true')\n",
        "\n",
        "plt.show()"
      ],
      "execution_count": 0,
      "outputs": [
        {
          "output_type": "stream",
          "text": [
            "Ensemble: Bagging Classifier Train Accuracy:0.9229\n",
            "Ensemble: Bagging Classifier Test Accuracy:0.7664\n"
          ],
          "name": "stdout"
        },
        {
          "output_type": "display_data",
          "data": {
            "image/png": "[encoded data removed]",
            "text/plain": [
              "<Figure size 432x288 with 2 Axes>"
            ]
          },
          "metadata": {
            "tags": []
          }
        }
      ]
    },
    {
      "cell_type": "markdown",
      "metadata": {
        "id": "irKwxkxrwg6q",
        "colab_type": "text"
      },
      "source": [
        "##Undersampling"
      ]
    },
    {
      "cell_type": "code",
      "metadata": {
        "id": "STdPerGDNKUI",
        "colab_type": "code",
        "colab": {}
      },
      "source": [
        "# Undersample Data Points\n",
        "\n",
        "x = pd.concat(([x_train,y_train]), axis=1)\n",
        "\n",
        "func = x[x.status_group==0]\n",
        "func_repair = x[x.status_group==1]\n",
        "nonfunc = x[x.status_group==2]\n",
        "\n",
        "sample0 = resample(func,replace=False, n_samples=len(func_repair), random_state=11)\n",
        "sample2 = resample(nonfunc,replace=False, n_samples=len(func_repair), random_state=11)\n",
        "\n",
        "sampled = pd.concat([sample0, func_repair, sample2])\n",
        "\n",
        "sampled.status_group.value_counts()\n",
        "sampled_y = sampled.status_group\n",
        "sampled_x = sampled.drop('status_group',axis=1)"
      ],
      "execution_count": 0,
      "outputs": []
    },
    {
      "cell_type": "code",
      "metadata": {
        "id": "wcvyJUzsb4Ba",
        "colab_type": "code",
        "outputId": "6514662d-66f9-4bfa-db44-6e0753152efd",
        "colab": {
          "base_uri": "https://localhost:8080/",
          "height": 313
        }
      },
      "source": [
        "randomforest = RandomForestClassifier(n_estimators=900, max_depth=20)\n",
        "randomforest.fit(sampled_x,sampled_y)\n",
        "\n",
        "print(\"Random Forest Train Accuracy:{:.4f}\".format(randomforest.score(sampled_x,sampled_y)))\n",
        "print(\"Random Forest Test Accuracy:{:.4f}\".format(randomforest.score(x_test,y_test)))\n",
        "\n",
        "disp = plot_confusion_matrix(randomforest, x_test, y_test,\n",
        "                                 display_labels=class_names,\n",
        "                                 cmap=plt.cm.Blues,\n",
        "                                 normalize='true')\n",
        "\n",
        "plt.show()"
      ],
      "execution_count": 0,
      "outputs": [
        {
          "output_type": "stream",
          "text": [
            "Random Forest Train Accuracy:0.9655\n",
            "Random Forest Test Accuracy:0.6453\n"
          ],
          "name": "stdout"
        },
        {
          "output_type": "display_data",
          "data": {
            "image/png": "[encoded data removed]",
            "text/plain": [
              "<Figure size 432x288 with 2 Axes>"
            ]
          },
          "metadata": {
            "tags": []
          }
        }
      ]
    },
    {
      "cell_type": "code",
      "metadata": {
        "id": "edtDC7qYb4No",
        "colab_type": "code",
        "outputId": "716d4426-54a0-4728-8a29-0d744d196a4b",
        "colab": {
          "base_uri": "https://localhost:8080/",
          "height": 313
        }
      },
      "source": [
        "bagging = BaggingClassifier(DecisionTreeClassifier(max_depth=20, random_state=1), n_estimators=500, bootstrap=True, random_state=1)\n",
        "bagging.fit(sampled_x,sampled_y)\n",
        "\n",
        "print(\"Ensemble: Bagging Classifier Train Accuracy:{:.4f}\".format(bagging.score(sampled_x,sampled_y)))\n",
        "print(\"Ensemble: Bagging Classifier Test Accuracy:{:.4f}\".format(bagging.score(x_test,y_test)))\n",
        "\n",
        "disp = plot_confusion_matrix(bagging, x_test, y_test,\n",
        "                                 display_labels=class_names,\n",
        "                                 cmap=plt.cm.Blues,\n",
        "                                 normalize='true')\n",
        "\n",
        "plt.show()"
      ],
      "execution_count": 0,
      "outputs": [
        {
          "output_type": "stream",
          "text": [
            "Ensemble: Bagging Classifier Train Accuracy:0.9749\n",
            "Ensemble: Bagging Classifier Test Accuracy:0.6470\n"
          ],
          "name": "stdout"
        },
        {
          "output_type": "display_data",
          "data": {
            "image/png": "[encoded data removed]",
            "text/plain": [
              "<Figure size 432x288 with 2 Axes>"
            ]
          },
          "metadata": {
            "tags": []
          }
        }
      ]
    },
    {
      "cell_type": "markdown",
      "metadata": {
        "id": "uVoGdWtPwlfl",
        "colab_type": "text"
      },
      "source": [
        "Oversampling"
      ]
    },
    {
      "cell_type": "code",
      "metadata": {
        "id": "qUCuo5KUNKfP",
        "colab_type": "code",
        "colab": {}
      },
      "source": [
        "# Oversample Data Points\n",
        "\n",
        "x = pd.concat(([x_train,y_train]), axis=1)\n",
        "\n",
        "func = x[x.status_group==0]\n",
        "func_repair = x[x.status_group==1]\n",
        "nonfunc = x[x.status_group==2]\n",
        "\n",
        "sample1 = resample(func_repair,replace=True, n_samples=len(func), random_state=11)\n",
        "sample2 = resample(nonfunc,replace=True, n_samples=len(func), random_state=11)\n",
        "\n",
        "\n",
        "sampled = pd.concat([func, sample1, sample2])\n",
        "\n",
        "sampled.status_group.value_counts()\n",
        "\n",
        "oversampled_y = sampled.status_group\n",
        "oversampled_x = sampled.drop('status_group',axis=1)"
      ],
      "execution_count": 0,
      "outputs": []
    },
    {
      "cell_type": "code",
      "metadata": {
        "id": "MmlaA-X5dT3L",
        "colab_type": "code",
        "colab": {}
      },
      "source": [
        "sampled.status_group.value_counts()"
      ],
      "execution_count": 0,
      "outputs": []
    },
    {
      "cell_type": "code",
      "metadata": {
        "id": "9BBJVV8MNKio",
        "colab_type": "code",
        "outputId": "47386792-365c-4372-e80d-e786c4c2c335",
        "colab": {
          "base_uri": "https://localhost:8080/",
          "height": 313
        }
      },
      "source": [
        "randomforest = RandomForestClassifier(n_estimators=900, max_depth=20)\n",
        "randomforest.fit(oversampled_x,oversampled_y)\n",
        "\n",
        "print(\"Random Forest Train Accuracy:{:.4f}\".format(randomforest.score(oversampled_x,oversampled_y)))\n",
        "print(\"Random Forest Test Accuracy:{:.4f}\".format(randomforest.score(x_test,y_test)))\n",
        "\n",
        "disp = plot_confusion_matrix(randomforest, x_test, y_test,\n",
        "                                 display_labels=class_names,\n",
        "                                 cmap=plt.cm.Blues,\n",
        "                                 normalize='true')\n",
        "\n",
        "plt.show()"
      ],
      "execution_count": 0,
      "outputs": [
        {
          "output_type": "stream",
          "text": [
            "Random Forest Train Accuracy:0.9318\n",
            "Random Forest Test Accuracy:0.7325\n"
          ],
          "name": "stdout"
        },
        {
          "output_type": "display_data",
          "data": {
            "image/png": "[encoded data removed]",
            "text/plain": [
              "<Figure size 432x288 with 2 Axes>"
            ]
          },
          "metadata": {
            "tags": []
          }
        }
      ]
    },
    {
      "cell_type": "code",
      "metadata": {
        "id": "gbOezoZMkYEX",
        "colab_type": "code",
        "outputId": "20f38226-7979-4874-beb0-24ab2d0c357b",
        "colab": {
          "base_uri": "https://localhost:8080/",
          "height": 313
        }
      },
      "source": [
        "bagging = BaggingClassifier(DecisionTreeClassifier(max_depth=20, random_state=1), n_estimators=500, bootstrap=True, random_state=1)\n",
        "bagging.fit(oversampled_x,oversampled_y)\n",
        "\n",
        "print(\"Ensemble: Bagging Classifier Train Accuracy:{:.4f}\".format(bagging.score(oversampled_x,oversampled_y)))\n",
        "print(\"Ensemble: Bagging Classifier Test Accuracy:{:.4f}\".format(bagging.score(x_test,y_test)))\n",
        "\n",
        "disp = plot_confusion_matrix(bagging, x_test, y_test,\n",
        "                                 display_labels=class_names,\n",
        "                                 cmap=plt.cm.Blues,\n",
        "                                 normalize='true')\n",
        "\n",
        "plt.show()"
      ],
      "execution_count": 0,
      "outputs": [
        {
          "output_type": "stream",
          "text": [
            "Ensemble: Bagging Classifier Train Accuracy:0.9385\n",
            "Ensemble: Bagging Classifier Test Accuracy:0.7280\n"
          ],
          "name": "stdout"
        },
        {
          "output_type": "display_data",
          "data": {
            "image/png": "[encoded data removed]",
            "text/plain": [
              "<Figure size 432x288 with 2 Axes>"
            ]
          },
          "metadata": {
            "tags": []
          }
        }
      ]
    },
    {
      "cell_type": "markdown",
      "metadata": {
        "id": "OAH3Y4OqwqlZ",
        "colab_type": "text"
      },
      "source": [
        "## SMOTE Sampling Analysis"
      ]
    },
    {
      "cell_type": "code",
      "metadata": {
        "id": "nVSV0F9T2a0Y",
        "colab_type": "code",
        "outputId": "6f6fdc9d-7d57-415a-9b2d-c000d186c3ae",
        "colab": {
          "base_uri": "https://localhost:8080/",
          "height": 173
        }
      },
      "source": [
        "# SMOTE Analysis\n",
        "from imblearn.over_sampling import SMOTE\n",
        "\n",
        "smt = SMOTE()\n",
        "smote_x, smote_y = smt.fit_sample(x_train, y_train)"
      ],
      "execution_count": 0,
      "outputs": [
        {
          "output_type": "stream",
          "text": [
            "/usr/local/lib/python3.6/dist-packages/sklearn/externals/six.py:31: FutureWarning: The module is deprecated in version 0.21 and will be removed in version 0.23 since we've dropped support for Python 2.7. Please rely on the official version of six (https://pypi.org/project/six/).\n",
            "  \"(https://pypi.org/project/six/).\", FutureWarning)\n",
            "/usr/local/lib/python3.6/dist-packages/sklearn/utils/deprecation.py:144: FutureWarning: The sklearn.neighbors.base module is  deprecated in version 0.22 and will be removed in version 0.24. The corresponding classes / functions should instead be imported from sklearn.neighbors. Anything that cannot be imported from sklearn.neighbors is now part of the private API.\n",
            "  warnings.warn(message, FutureWarning)\n",
            "/usr/local/lib/python3.6/dist-packages/sklearn/utils/deprecation.py:87: FutureWarning: Function safe_indexing is deprecated; safe_indexing is deprecated in version 0.22 and will be removed in version 0.24.\n",
            "  warnings.warn(msg, category=FutureWarning)\n",
            "/usr/local/lib/python3.6/dist-packages/sklearn/utils/deprecation.py:87: FutureWarning: Function safe_indexing is deprecated; safe_indexing is deprecated in version 0.22 and will be removed in version 0.24.\n",
            "  warnings.warn(msg, category=FutureWarning)\n"
          ],
          "name": "stderr"
        }
      ]
    },
    {
      "cell_type": "code",
      "metadata": {
        "id": "TX5ZdAsN6BrI",
        "colab_type": "code",
        "outputId": "fdf63e4c-e2f1-4a66-e664-d701c74d3c8a",
        "colab": {
          "base_uri": "https://localhost:8080/",
          "height": 34
        }
      },
      "source": [
        "np.bincount(smote_y)"
      ],
      "execution_count": 0,
      "outputs": [
        {
          "output_type": "execute_result",
          "data": {
            "text/plain": [
              "array([24455, 24455, 24455])"
            ]
          },
          "metadata": {
            "tags": []
          },
          "execution_count": 53
        }
      ]
    },
    {
      "cell_type": "code",
      "metadata": {
        "id": "N5q0hlWH3zd6",
        "colab_type": "code",
        "outputId": "e235177a-25c8-4e0c-f0de-dc881747f844",
        "colab": {
          "base_uri": "https://localhost:8080/",
          "height": 313
        }
      },
      "source": [
        "randomforest = RandomForestClassifier(n_estimators=900, max_depth=20)\n",
        "randomforest.fit(smote_x, smote_y)\n",
        "\n",
        "print(\"Random Forest Train Accuracy:{:.4f}\".format(randomforest.score(smote_x, smote_y)))\n",
        "print(\"Random Forest Test Accuracy:{:.4f}\".format(randomforest.score(x_test,y_test)))\n",
        "\n",
        "disp = plot_confusion_matrix(randomforest, x_test, y_test,\n",
        "                                 display_labels=class_names,\n",
        "                                 cmap=plt.cm.Blues,\n",
        "                                 normalize='true')\n",
        "\n",
        "plt.show()"
      ],
      "execution_count": 0,
      "outputs": [
        {
          "output_type": "stream",
          "text": [
            "Random Forest Train Accuracy:0.9231\n",
            "Random Forest Test Accuracy:0.7731\n"
          ],
          "name": "stdout"
        },
        {
          "output_type": "display_data",
          "data": {
            "image/png": "[encoded data removed]",
            "text/plain": [
              "<Figure size 432x288 with 2 Axes>"
            ]
          },
          "metadata": {
            "tags": []
          }
        }
      ]
    },
    {
      "cell_type": "code",
      "metadata": {
        "id": "MQOT5BEd31L-",
        "colab_type": "code",
        "colab": {}
      },
      "source": [
        "bagging = BaggingClassifier(DecisionTreeClassifier(max_depth=20, random_state=1), n_estimators=500, bootstrap=True, random_state=1)\n",
        "bagging.fit(smote_x, smote_y)\n",
        "\n",
        "print(\"Ensemble: Bagging Classifier Train Accuracy:{:.4f}\".format(bagging.score(smote_x, smote_y)))\n",
        "print(\"Ensemble: Bagging Classifier Test Accuracy:{:.4f}\".format(bagging.score(x_test,y_test)))\n",
        "\n",
        "disp = plot_confusion_matrix(bagging, x_test, y_test,\n",
        "                                 display_labels=class_names,\n",
        "                                 cmap=plt.cm.Blues,\n",
        "                                 normalize='true')\n",
        "plt.show()"
      ],
      "execution_count": 0,
      "outputs": []
    },
    {
      "cell_type": "markdown",
      "metadata": {
        "id": "0KC57JjHorOS",
        "colab_type": "text"
      },
      "source": [
        "\n"
      ]
    }
  ]
}